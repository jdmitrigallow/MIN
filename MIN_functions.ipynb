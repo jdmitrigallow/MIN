{
 "cells": [
  {
   "cell_type": "code",
   "execution_count": 1,
   "metadata": {},
   "outputs": [],
   "source": [
    "import numpy"
   ]
  },
  {
   "cell_type": "code",
   "execution_count": 4,
   "metadata": {},
   "outputs": [],
   "source": [
    "# This function takes a square matrix and sets the new value of (row, col) to the old value of (col, col) - (row, col).\n",
    "# So, when you feed it the matrix Utility(row | col), it gives you back the matrix Improvement(col,row | col)\n",
    "def improve(m):\n",
    "    blank = numpy.zeros(shape=(m.shape[0],m.shape[1]))\n",
    "    for i in range(0,m.shape[0]):\n",
    "        for j in range(0,m.shape[1]):\n",
    "            blank[i][j] = m[j][j]-m[i][j]\n",
    "    return blank"
   ]
  },
  {
   "cell_type": "code",
   "execution_count": 5,
   "metadata": {},
   "outputs": [],
   "source": [
    "# This function takes a square matrix and sets the new value of (row, col) to the old value of (row, col) - (col, row).\n",
    "# So, when you feed it the matrix Improvement(col, row | col), it gives you back the matrix News(col, row)\n",
    "def newsify(m):\n",
    "    blank = numpy.zeros(shape=m.shape)\n",
    "    for row in range(0,m.shape[0]):\n",
    "        for col in range(0,m.shape[1]):\n",
    "            blank[row][col] = m[row][col] - m[col][row]\n",
    "    return blank"
   ]
  },
  {
   "cell_type": "code",
   "execution_count": 6,
   "metadata": {},
   "outputs": [],
   "source": [
    "# Here, I generate the matrix News(col, row) from the matrices payoff and prob provided above\n",
    "News = newsify(improve(des.dot(probs)))"
   ]
  },
  {
   "cell_type": "code",
   "execution_count": 7,
   "metadata": {},
   "outputs": [],
   "source": [
    "num_acts = News.shape[0]"
   ]
  },
  {
   "cell_type": "code",
   "execution_count": 8,
   "metadata": {},
   "outputs": [],
   "source": [
    "# This function generates a list of ordered triples, where the first member of the triple is the column of News(col, row), \n",
    "# the second member is the row of News(col,row), and the third member is the value at (row, col).\n",
    "# Because News(col, row) = - News(row, col), I only look at the non-negative values.\n",
    "\n",
    "def pairs(m):\n",
    "    blank = []\n",
    "    for row in range(0,m.shape[0]):\n",
    "        for col in range(row+1,m.shape[1]):\n",
    "            blank.append((col, row, m[row][col]))\n",
    "    return blank"
   ]
  },
  {
   "cell_type": "code",
   "execution_count": 32,
   "metadata": {},
   "outputs": [],
   "source": [
    "#This function displays the preferences and strengths \n",
    "def pref_view_init(l):\n",
    "    for entry in l:\n",
    "        up = entry[0]\n",
    "        down=entry[1]\n",
    "        print(up+'  >  '+down+'    ['+str(entry[2])+']')"
   ]
  },
  {
   "cell_type": "code",
   "execution_count": 33,
   "metadata": {},
   "outputs": [],
   "source": [
    "#This function displays just the preferences\n",
    "def pref_view(l):\n",
    "    for entry in l:\n",
    "        up=entry[0]\n",
    "        down=entry[1]\n",
    "        print(up+'  >  '+down)"
   ]
  },
  {
   "cell_type": "code",
   "execution_count": 10,
   "metadata": {},
   "outputs": [],
   "source": [
    "# Running the function \"pairs\" on the matrix \"News\"\n",
    "pairs = pairs(News)"
   ]
  },
  {
   "cell_type": "code",
   "execution_count": 11,
   "metadata": {},
   "outputs": [],
   "source": [
    "# This function allows me to convert the numbers from 0 to 25 into letters A--Z\n",
    "def num_to_let(num):\n",
    "    asciiInt = int(num) + 65\n",
    "    letter = str(chr(asciiInt))\n",
    "    return letter"
   ]
  },
  {
   "cell_type": "code",
   "execution_count": 12,
   "metadata": {},
   "outputs": [],
   "source": [
    "# This replaces the matrix pairs with a list of tuples (option1, option2, strength), where the options are named with letters\n",
    "# and \"strength\" tells me the strength of the reason I have to prefer option1 over option2\n",
    "def letterify(l):\n",
    "    blist = []\n",
    "    for row in range(0,len(l)):\n",
    "            blist.append((num_to_let(l[row][0]),num_to_let(l[row][1]),l[row][2]))\n",
    "    return blist"
   ]
  },
  {
   "cell_type": "code",
   "execution_count": 13,
   "metadata": {},
   "outputs": [],
   "source": [
    "#This list is the result of sorting the initial_pairs by the absolute value of the \"strength\" of reasons\n",
    "#speaking in favour of holding that reason, in descending order\n",
    "init_list = letterify(pairs)"
   ]
  },
  {
   "cell_type": "code",
   "execution_count": 14,
   "metadata": {},
   "outputs": [],
   "source": [
    "# This function sorts the tuples (option1, option2, strength) by the absolute value of \"strength\", in descending order\n",
    "def Sort_Tuple(l):\n",
    "    l.sort(key = lambda x:x[2],reverse=1)\n",
    "    return l"
   ]
  },
  {
   "cell_type": "code",
   "execution_count": 15,
   "metadata": {},
   "outputs": [],
   "source": [
    "init_sorted_list = Sort_Tuple(init_list)"
   ]
  },
  {
   "cell_type": "code",
   "execution_count": 1,
   "metadata": {},
   "outputs": [],
   "source": [
    "def check_for_ties(l):\n",
    "    answer = 0\n",
    "    for i in range(0,len(l)):\n",
    "        for j in range(i+1,len(l)):\n",
    "            if l[i][2]==l[j][2]:\n",
    "                answer = 1\n",
    "                return answer\n",
    "    return answer"
   ]
  },
  {
   "cell_type": "code",
   "execution_count": 17,
   "metadata": {},
   "outputs": [],
   "source": [
    "def break_ties(l):\n",
    "    if check_for_ties(l)==0:\n",
    "        l.sort(key=lambda x:abs(x[2]),reverse=True)\n",
    "    if check_for_ties(l)==1:\n",
    "        first = input(\"Because there are ties in the strengths of your reasons, this decision requires the use of the tie-breaking algorithm.  You should enter some arbitrary preference between options which we will use to break ties.  What is your most preferred option?\")\n",
    "        if ord(first) < 65 or ord(first) > 90:\n",
    "            first = input(\"Sorry, but you have to use uppercase letters.  Let's try that again.  Your most preferred options is:\")\n",
    "        my_dict = { first : 0 }\n",
    "        count=1\n",
    "        for num in range(1,num_acts):\n",
    "            next = input(\"What is your next most preferred option?\")\n",
    "            if ord(next)< 65 or ord(next)>90:\n",
    "                next = input(\"Sorry, but you have to use uppercase letters.  Let's try that again.  Your next most preferred options is:\")\n",
    "            my_dict[next] = count\n",
    "            count+=1\n",
    "        l.sort(key=lambda x: my_dict[x[0]] if x[2]>=0 else my_dict[x[1]])\n",
    "        l.sort(key=lambda x:abs(x[2]),reverse=True)\n",
    "    return l"
   ]
  },
  {
   "cell_type": "code",
   "execution_count": null,
   "metadata": {},
   "outputs": [],
   "source": [
    "break_ties(init_sorted_list)"
   ]
  },
  {
   "cell_type": "code",
   "execution_count": 20,
   "metadata": {},
   "outputs": [],
   "source": [
    "# The 'purify' function eliminates the strengths, swaps the position of the options if the strength is negative, and creates\n",
    "# a duplicate of the pair with the options swapped if the strength is zero\n",
    "def purify(l):\n",
    "    blist = []\n",
    "    for row in range(0,len(l)):\n",
    "        if l[row][2] >0:\n",
    "            blist.append((l[row][0], l[row][1],l[row][2]))\n",
    "        elif l[row][2]<0:\n",
    "            blist.append((l[row][1], l[row][0],abs(l[row][2])))\n",
    "        elif l[row][2]==0:\n",
    "            blist.append((l[row][0],l[row][1],l[row][2]))\n",
    "            blist.append((l[row][1],l[row][0],l[row][2]))\n",
    "    return blist"
   ]
  },
  {
   "cell_type": "code",
   "execution_count": 21,
   "metadata": {},
   "outputs": [],
   "source": [
    "pure_pairs = purify(init_sorted_list)"
   ]
  },
  {
   "cell_type": "code",
   "execution_count": null,
   "metadata": {},
   "outputs": [],
   "source": [
    "# Here are the tuples, ordered by the strength of the reason you have to prefer option1 to option2\n",
    "print()\n",
    "print(\"Here is the list of preferences which you have pro tanto reason to hold, ordered by the strength of the reason you have to hold them.\")\n",
    "print()\n",
    "pref_view_init(pure_pairs)\n",
    "print()\n",
    "print(\"Here's how to read the list: 'X  >  Y    [s]' says that you have a pro tanto reason of strength s to prefer X to Y.  If s is 0, then the preference should be read as weak.\")\n",
    "print()"
   ]
  },
  {
   "cell_type": "code",
   "execution_count": 53,
   "metadata": {},
   "outputs": [],
   "source": [
    "# With this function, we chain together any pairs where the 1st option matches the 2nd or the 2nd matches the first.\n",
    "# Thus, (X,Y) and (Y, Z) leads to a pair (X, Z)\n",
    "# And (X, Y) and (Z, X) leads to a pair (Z, X)\n",
    "def chain(l):\n",
    "    blist = []\n",
    "    for row2 in range(0,len(l)):\n",
    "        for row1 in range(0,row2):\n",
    "            if l[row1][0]==l[row2][1] and not (l[row2][0],l[row1][1]) in blist:\n",
    "                blist.append((l[row2][0],l[row1][1]))\n",
    "            if l[row1][1]==l[row2][0] and not (l[row1][0],l[row2][1]) in blist:\n",
    "                blist.append((l[row1][0],l[row2][1]))\n",
    "        blist.append(l[row2])\n",
    "    return blist"
   ]
  },
  {
   "cell_type": "code",
   "execution_count": 51,
   "metadata": {},
   "outputs": [],
   "source": [
    "# This function checks a list of preferences to see whether they form any cycles.\n",
    "# It does this by running the \"chain\" function as many times as their are acts, effectively tracing out every possible path \n",
    "# through the options.  If any of these paths take you back to the option you started with, then the function \n",
    "# returns the answer \"1\".  Otherwise, it returns \"0\".\n",
    "def check_for_cycles(l):\n",
    "    blist=l\n",
    "    answer = 0\n",
    "    for num in range(0,num_acts+1):\n",
    "        blist=chain(blist)\n",
    "        for row in blist:\n",
    "            if row[0]==row[1]:\n",
    "                answer = 1\n",
    "                return answer\n",
    "    return answer"
   ]
  },
  {
   "cell_type": "code",
   "execution_count": 35,
   "metadata": {},
   "outputs": [],
   "source": [
    "# This function decides which strict preferences are retained by first adding the first two strict preferences to a list of \n",
    "# \"keepers\" (since the first two strict preferences cannot form a cycle on their own).  It then adds subsequent strict \n",
    "# preferences from the sorted list iff doing so does not lead to any cycles.  We ignore indifferences.\n",
    "def kept_pairs(l):\n",
    "    keep = []\n",
    "    for row in range(0,len(l)):\n",
    "        if check_for_cycles(keep + [l[row]])==0 and l[row][2]!=0:\n",
    "            keep.append(l[row])\n",
    "    return keep "
   ]
  },
  {
   "cell_type": "code",
   "execution_count": 55,
   "metadata": {},
   "outputs": [],
   "source": [
    "# This function does the same thing as the kept_pairs function, except that it also keeps track of which strict preferences are\n",
    "# discarded.  It carries them around in a list called \"toss\", which is returned as the output of the function.\n",
    "def tossed_pairs(l):\n",
    "    keep = []\n",
    "    toss = []\n",
    "    for row in range(0,len(l)):\n",
    "        if check_for_cycles(keep + [l[row]])==0 or l[row][2]==0:\n",
    "            keep.append(l[row])\n",
    "        else:\n",
    "            toss.append(l[row])\n",
    "    return toss"
   ]
  },
  {
   "cell_type": "code",
   "execution_count": 26,
   "metadata": {},
   "outputs": [],
   "source": [
    "keepers = kept_pairs(pure_pairs)"
   ]
  },
  {
   "cell_type": "code",
   "execution_count": null,
   "metadata": {},
   "outputs": [],
   "source": [
    "print()\n",
    "print(\"After the algorithm is run, here are the *strict* preferences which are retained:\")\n",
    "print()\n",
    "pref_view(keepers)\n",
    "print()\n",
    "print(\"We won't worry about the indifferences.  If your original list contained only indifferences, then all options are permissible.\")\n",
    "print()"
   ]
  },
  {
   "cell_type": "code",
   "execution_count": null,
   "metadata": {},
   "outputs": [],
   "source": [
    "print(\"And here are the *strict* preferences which are struck:\")\n",
    "print()\n",
    "pref_view(tossed_pairs(pure_pairs))"
   ]
  },
  {
   "cell_type": "code",
   "execution_count": 56,
   "metadata": {},
   "outputs": [],
   "source": [
    "# This function returns the options which are at the top of the preference ordering.  It scans through every pair of distinct\n",
    "# strict preferences in a list and returns options which are strictly preferred to some option and not strictly *dis*preferred\n",
    "# to any other option\n",
    "def top(l):\n",
    "    tops=[]\n",
    "    for i in l:\n",
    "        dispreferred=0\n",
    "        for j in l:\n",
    "            if i!=j and j[1]==i[0]:\n",
    "                dispreferred=1\n",
    "        if dispreferred==0:\n",
    "            tops.append(i[0])\n",
    "    return tops"
   ]
  },
  {
   "cell_type": "code",
   "execution_count": 30,
   "metadata": {},
   "outputs": [],
   "source": [
    "# This function removes any duplicates from a list.\n",
    "def remove_duplicates(l):\n",
    "    blist = [] \n",
    "    [blist.append(x) for x in l if x not in blist]\n",
    "    return blist"
   ]
  },
  {
   "cell_type": "code",
   "execution_count": null,
   "metadata": {},
   "outputs": [],
   "source": [
    "print()\n",
    "print('Therefore, the following options are permissible:')\n",
    "print()\n",
    "print(remove_duplicates(top(keepers)))"
   ]
  }
 ],
 "metadata": {
  "kernelspec": {
   "display_name": "Python 3",
   "language": "python",
   "name": "python3"
  },
  "language_info": {
   "codemirror_mode": {
    "name": "ipython",
    "version": 3
   },
   "file_extension": ".py",
   "mimetype": "text/x-python",
   "name": "python",
   "nbconvert_exporter": "python",
   "pygments_lexer": "ipython3",
   "version": "3.8.3"
  }
 },
 "nbformat": 4,
 "nbformat_minor": 4
}
