{
 "cells": [
  {
   "cell_type": "markdown",
   "metadata": {},
   "source": [
    "# Managing the Improvement News"
   ]
  },
  {
   "cell_type": "markdown",
   "metadata": {},
   "source": [
    "This notebook was designed to tell you quickly and easily which options are permissible according to the decision theory proposed in [\"The Causal Decision Theorist's Guide to Managing the News\"](https://philpapers.org/rec/GALTCD-3).\n",
    "\n",
    "First, you'll have to run the line below.  Just click on it, hold down Shift, and hit Enter."
   ]
  },
  {
   "cell_type": "code",
   "execution_count": 1,
   "metadata": {},
   "outputs": [],
   "source": [
    "import numpy"
   ]
  },
  {
   "cell_type": "markdown",
   "metadata": {},
   "source": [
    "## Desires"
   ]
  },
  {
   "cell_type": "markdown",
   "metadata": {},
   "source": [
    "Below, you'll have to enter in your desires, by recording them in an array like the following:\n",
    "\n",
    "|             | State 1 |  State 2 | ... | State N |\n",
    "| :-----------: | :-----------: | :-----:|:-----:|:---------:|\n",
    "| Act 1       | des(Act 1 & State 1)       |des(Act 1 & State 2) | ... | des(Act 1 & State N) | \n",
    "| Act 2       | des(Act 2 & State 1)       |des(Act 2 & State 2) | ... | des(Act 2 & State N) | \n",
    "|     ...        |                      |                     | |    |\n",
    "| Act M       |  des(Act M & State 1)      | des(Act M & State 2)| ... | des(Act M & State N) |\n",
    "\n",
    "To do this, first type ```des=numpy.array(``` to signal that you're entering a matrix.  Next put an open bracket ```[``` to begin the matrix, and then another open bracket ```[``` to begin the first row.  At that point, you enter in the values from the first row the table, separated by commas, and follow up with a closed bracket ```]``` to finish off the row.  A comma followed by another open bracket begins the next row, and you proceed from there.  At the end, you'll need to close off all your brackets and parentheses.\n",
    "\n",
    "For instance, consider the following desires:\n",
    "\n",
    "|      |  State 1  |  State 2  |\n",
    "|:----:|:------------------:|:------------------:|\n",
    "| A    |       0            |        100         |\n",
    "| B    |    100             |        0           |\n",
    "| C    |     -1             |       99           |\n",
    "|D     |     99             |       -1           |\n",
    "\n",
    "(These desires come from a version of the decision called *Semi-Frustrator* by [Jack Sencer & Ian Wells](https://philpapers.org/rec/SPEWTB).  I'll use it as my running example here.)\n",
    "\n",
    "__Importantly, I'm going to encode the available acts with letters from the start of the alphabet (A, B, C, D, ...).  So, in the final preferences I spit out at the end, \"A\" refers to the act from the first row, \"B\" refers to the act from the second row, and so on.__\n",
    "\n",
    "To enter this information as a matrix, just type:\n",
    "\n",
    "```\n",
    "des = numpy.array([[0,100],[100,0],[-1,99],[99,-1]])\n",
    "```\n",
    "And then press Shift+Enter."
   ]
  },
  {
   "cell_type": "code",
   "execution_count": 2,
   "metadata": {},
   "outputs": [],
   "source": [
    "des = numpy.array([[0,100],[100,0],[-1,99],[99,-1]])"
   ]
  },
  {
   "cell_type": "markdown",
   "metadata": {},
   "source": [
    "## Probabilities"
   ]
  },
  {
   "cell_type": "markdown",
   "metadata": {},
   "source": [
    "Next, you'll enter in your conditional probabilities for each state, given that you select each act, in the following format:\n",
    "\n",
    "|      |    Act 1   |   Act 2  |   ...   |  Act M   |\n",
    "|:----:|:----------:|:--------:|:-------:|:--------:|\n",
    "|State 1| Pr(State 1 $|$ Act 1) | Pr(State 1 $|$ Act 2) | ... | Pr(State 1 $|$ Act M) |\n",
    "|State 2| Pr(State 2 $|$ Act 1) | Pr(State 2 $|$ Act 2) | ... | Pr(State 2 $|$ Act M) |\n",
    "| |   |   | ... |   |\n",
    "|State N| Pr(State N $|$ Act 1) | Pr(State N $|$ Act 2) | ... | Pr(State N $|$ Act M) |\n",
    "\n",
    "For instance, in our example, we can use these conditional probabilities:\n",
    "\n",
    "|                  |    A    |    B   |   C   |   D   |\n",
    "|:---------------: |:-------:|:------:|:-----:|:------:|\n",
    "| State 1 |   100%  |   0%   |  50%  |   50%  |\n",
    "| State 2 |    0%   |   100% |  50%  |   50%  |\n",
    "\n",
    "We enter this in as follows:\n",
    "\n",
    "```\n",
    "probs = numpy.array([[1,0,0.5,0.5],[0,1,0.5,0.5]])\n",
    "```\n",
    "After you've entered in the probabilities, press Shift+Enter."
   ]
  },
  {
   "cell_type": "code",
   "execution_count": 3,
   "metadata": {},
   "outputs": [],
   "source": [
    "probs = numpy.array([[1,0,0.5,0.5],[0,1,0.5,0.5]])"
   ]
  },
  {
   "cell_type": "markdown",
   "metadata": {},
   "source": [
    "## Permissible Choices"
   ]
  },
  {
   "cell_type": "markdown",
   "metadata": {},
   "source": [
    "Next, to see which of the available acts MIN says are permissible, just run the following line of code (```%run MIN_functions.ipynb```) by clicking it and pressing Shift+Enter:"
   ]
  },
  {
   "cell_type": "code",
   "execution_count": null,
   "metadata": {},
   "outputs": [],
   "source": [
    "%run MIN_functions.ipynb"
   ]
  },
  {
   "cell_type": "markdown",
   "metadata": {},
   "source": [
    "In the example decision, you have to break ties.  An option counts as permissible iff it is permissible given _some_ way of breaking ties.  To see that C is permissible in the example decision, punch in the preferences C>B>A>D.  And to see that D is permissible, punch in the preferences D>A>B>C.  If you need to break ties, then you may have to experiment a bit to see which options are permissible."
   ]
  }
 ],
 "metadata": {
  "kernelspec": {
   "display_name": "Python 3",
   "language": "python",
   "name": "python3"
  },
  "language_info": {
   "codemirror_mode": {
    "name": "ipython",
    "version": 3
   },
   "file_extension": ".py",
   "mimetype": "text/x-python",
   "name": "python",
   "nbconvert_exporter": "python",
   "pygments_lexer": "ipython3",
   "version": "3.8.3"
  }
 },
 "nbformat": 4,
 "nbformat_minor": 4
}
